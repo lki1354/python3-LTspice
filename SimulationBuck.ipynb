{
 "cells": [
  {
   "cell_type": "code",
   "execution_count": 4,
   "metadata": {
    "collapsed": true
   },
   "outputs": [],
   "source": [
    "# coding: utf-8\n",
    "from LTspice.Converter import Converter\n",
    "simulation_dir = './Examples/'"
   ]
  },
  {
   "cell_type": "code",
   "execution_count": 5,
   "metadata": {},
   "outputs": [
    {
     "data": {
      "text/plain": [
       "4.8"
      ]
     },
     "execution_count": 5,
     "metadata": {},
     "output_type": "execute_result"
    }
   ],
   "source": [
    "L1 = 33E-6\n",
    "L2 = 33E-6\n",
    "CC = 4.7E-6\n",
    "Lin = 33E-6\n",
    "Cin = 33E-6\n",
    "Cout = 4.7E-6\n",
    "Uin = 48\n",
    "\n",
    "f = 1.0E+6\n",
    "T = 1/f\n",
    "Uout = 24\n",
    "Iout = 5\n",
    "#Rload = 0.001\n",
    "Rload = Uout / Iout\n",
    "Rload"
   ]
  },
  {
   "cell_type": "code",
   "execution_count": 6,
   "metadata": {},
   "outputs": [
    {
     "name": "stdout",
     "output_type": "stream",
     "text": [
      "C:\\Users\\Lukas Kiechle\\Documents\\GitHub\\python3-LTspice\\LTspice\n",
      "call \"C:\\Program Files\\LTC\\LTspiceXVII\\XVIIx64.exe\" -Run -b \"Examples\\new_BuckVariable\\new_BuckVariable.asc\"\n",
      "Simulation finished!\n",
      "pars finished!\n",
      "Data printed from converter BuckVariable\n",
      "Efficiency = 92.38% \n",
      "Input Power = 128.50W \n",
      "Output Power = 118.71W \n",
      "#############################\n",
      "Input Voltage RMS = 48.0000V \n",
      "Input Current RMS = 4.1479A \n",
      "Output Voltage RMS = 23.8705V \n",
      "Output Current RMS = 4.9730A \n",
      "Input Voltage Rippel = 0.0000V \n",
      "Input Current Rippel = 96.6818A \n",
      "Output Voltage Rippel = 10.0861mV \n",
      "Output Current Rippel = 2.1009mA \n",
      "\n"
     ]
    }
   ],
   "source": [
    "Buck = Converter(simulation_dir,'BuckVariable.asc',{'L1':L1,'Cout':Cout,'Uin':Uin,'Rload':Rload,'Tperiode':T,'Ton':(T*Uout/Uin)})\n",
    "Buck.run()\n",
    "print(Buck)"
   ]
  },
  {
   "cell_type": "code",
   "execution_count": null,
   "metadata": {
    "collapsed": true
   },
   "outputs": [],
   "source": []
  }
 ],
 "metadata": {
  "kernelspec": {
   "display_name": "Python 3",
   "language": "python",
   "name": "python3"
  },
  "language_info": {
   "codemirror_mode": {
    "name": "ipython",
    "version": 3
   },
   "file_extension": ".py",
   "mimetype": "text/x-python",
   "name": "python",
   "nbconvert_exporter": "python",
   "pygments_lexer": "ipython3",
   "version": "3.6.3"
  }
 },
 "nbformat": 4,
 "nbformat_minor": 2
}
