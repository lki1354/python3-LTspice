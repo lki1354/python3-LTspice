{
 "cells": [
  {
   "cell_type": "code",
   "execution_count": null,
   "metadata": {
    "collapsed": true
   },
   "outputs": [],
   "source": [
    "# coding: utf-8\n",
    "from LTspice.Circuit import CircuitRAW\n",
    "#from plotly.offline import download_plotlyjs, init_notebook_mode, plot, iplot\n",
    "#init_notebook_mode(connected=True)\n",
    "\n",
    "simulation_dir = './Examples/'"
   ]
  },
  {
   "cell_type": "code",
   "execution_count": null,
   "metadata": {
    "collapsed": true
   },
   "outputs": [],
   "source": [
    "L1 = 33E-6\n",
    "L2 = 33E-6\n",
    "CC = 4.7E-6\n",
    "Lin = 33E-6\n",
    "Cin = 33E-6\n",
    "Cout = 4.7E-6\n",
    "Uin = 48\n",
    "\n",
    "f = 1.0E+6\n",
    "T = 1/f\n",
    "Uout = 24\n",
    "Iout = 5\n",
    "#Rload = 0.001\n",
    "Rload = Uout / Iout\n",
    "value_dict = {'{L1}':L1,'{Cout}':Cout,'{Uin}':Uin,'{Rload}':Rload,'{Tperiode}':T,'{Ton}':(T*Uout/Uin),'{Tstop}':1E-3}"
   ]
  },
  {
   "cell_type": "code",
   "execution_count": null,
   "metadata": {},
   "outputs": [],
   "source": [
    "Buck = CircuitRAW(simulation_dir,'BuckSimple.asc')\n",
    "Buck.set_values(value_dict)\n",
    "Buck.save_simulation()\n",
    "Buck.run()\n",
    "Buck.pars()"
   ]
  },
  {
   "cell_type": "code",
   "execution_count": 8,
   "metadata": {},
   "outputs": [
    {
     "data": {
      "text/plain": [
       "['time',\n",
       " 'V(n001)',\n",
       " 'V(out)',\n",
       " 'V(in)',\n",
       " 'V(n002)',\n",
       " 'Id(Q1)',\n",
       " 'Ig(Q1)',\n",
       " 'Is(Q1)',\n",
       " 'I(Cout)',\n",
       " 'I(D1)',\n",
       " 'I(L1)',\n",
       " 'I(Rload)',\n",
       " 'I(Switch)',\n",
       " 'I(Supply)']"
      ]
     },
     "execution_count": 8,
     "metadata": {},
     "output_type": "execute_result"
    }
   ],
   "source": [
    "Buck.namesOfVariables"
   ]
  },
  {
   "cell_type": "code",
   "execution_count": null,
   "metadata": {},
   "outputs": [],
   "source": [
    "Buck.values['time'][1:10]"
   ]
  },
  {
   "cell_type": "code",
   "execution_count": 9,
   "metadata": {
    "scrolled": false
   },
   "outputs": [],
   "source": [
    "import numpy as np\n",
    "import matplotlib.pyplot as plt\n"
   ]
  },
  {
   "cell_type": "code",
   "execution_count": 13,
   "metadata": {},
   "outputs": [
    {
     "data": {
      "image/png": "[encoded data removed]",
      "text/plain": [
       "<matplotlib.figure.Figure at 0x1ec39850550>"
      ]
     },
     "metadata": {},
     "output_type": "display_data"
    }
   ],
   "source": [
    "time = np.array(Buck.values['time'])\n",
    "uout = np.array(Buck.values['V(out)'])\n",
    "u1 = np.array(Buck.values['V(in)'])\n",
    "\n",
    "plt.plot(time,uout,time,u1)\n",
    "plt.ylabel('Ausgangsspannung [V]')\n",
    "plt.xlabel('Zeit in [s]')\n",
    "plt.grid(True)\n",
    "plt.show()"
   ]
  },
  {
   "cell_type": "code",
   "execution_count": null,
   "metadata": {
    "collapsed": true
   },
   "outputs": [],
   "source": [
    "\n",
    "Buck.remove_output()"
   ]
  }
 ],
 "metadata": {
  "kernelspec": {
   "display_name": "Python 3",
   "language": "python",
   "name": "python3"
  },
  "language_info": {
   "codemirror_mode": {
    "name": "ipython",
    "version": 3
   },
   "file_extension": ".py",
   "mimetype": "text/x-python",
   "name": "python",
   "nbconvert_exporter": "python",
   "pygments_lexer": "ipython3",
   "version": "3.6.3"
  }
 },
 "nbformat": 4,
 "nbformat_minor": 2
}
